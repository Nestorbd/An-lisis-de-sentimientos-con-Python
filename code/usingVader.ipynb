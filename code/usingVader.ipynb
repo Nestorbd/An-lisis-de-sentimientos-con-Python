{
 "cells": [
  {
   "cell_type": "code",
   "execution_count": 1,
   "metadata": {},
   "outputs": [
    {
     "name": "stdout",
     "output_type": "stream",
     "text": [
      "Collecting vaderSentiment\n",
      "  Downloading vaderSentiment-3.3.2-py2.py3-none-any.whl (125 kB)\n",
      "     ---------------------------------------- 0.0/126.0 kB ? eta -:--:--\n",
      "     --- ------------------------------------ 10.2/126.0 kB ? eta -:--:--\n",
      "     ------------ ------------------------ 41.0/126.0 kB 495.5 kB/s eta 0:00:01\n",
      "     -------------------------------------- 126.0/126.0 kB 1.1 MB/s eta 0:00:00\n",
      "Requirement already satisfied: requests in c:\\users\\néstor\\anaconda3\\lib\\site-packages (from vaderSentiment) (2.31.0)\n",
      "Requirement already satisfied: charset-normalizer<4,>=2 in c:\\users\\néstor\\anaconda3\\lib\\site-packages (from requests->vaderSentiment) (2.0.4)\n",
      "Requirement already satisfied: idna<4,>=2.5 in c:\\users\\néstor\\anaconda3\\lib\\site-packages (from requests->vaderSentiment) (3.4)\n",
      "Requirement already satisfied: urllib3<3,>=1.21.1 in c:\\users\\néstor\\anaconda3\\lib\\site-packages (from requests->vaderSentiment) (1.26.16)\n",
      "Requirement already satisfied: certifi>=2017.4.17 in c:\\users\\néstor\\anaconda3\\lib\\site-packages (from requests->vaderSentiment) (2023.7.22)\n",
      "Installing collected packages: vaderSentiment\n",
      "Successfully installed vaderSentiment-3.3.2\n"
     ]
    }
   ],
   "source": [
    "!pip install vaderSentiment"
   ]
  },
  {
   "cell_type": "code",
   "execution_count": 3,
   "metadata": {},
   "outputs": [
    {
     "name": "stdout",
     "output_type": "stream",
     "text": [
      "Sentiment of text 1: {'neg': 0.0, 'neu': 0.73, 'pos': 0.27, 'compound': 0.5719}\n",
      "Sentiment of text 2: {'neg': 0.508, 'neu': 0.492, 'pos': 0.0, 'compound': -0.4767}\n",
      "Sentiment of text 3: {'neg': 0.0, 'neu': 0.7, 'pos': 0.3, 'compound': 0.4588}\n",
      "Sentiment of text 4: {'neg': 0.237, 'neu': 0.763, 'pos': 0.0, 'compound': -0.4215}\n",
      "Sentiment of text 5: {'neg': 0.0, 'neu': 1.0, 'pos': 0.0, 'compound': 0.0}\n",
      "Sentiment of text 6: {'neg': 0.0, 'neu': 0.826, 'pos': 0.174, 'compound': 0.2732}\n",
      "Sentiment of text 7: {'neg': 0.176, 'neu': 0.32, 'pos': 0.504, 'compound': 0.6249}\n",
      "Sentiment of text 8: {'neg': 0.284, 'neu': 0.716, 'pos': 0.0, 'compound': -0.4168}\n",
      "Sentiment of text 9: {'neg': 0.3, 'neu': 0.7, 'pos': 0.0, 'compound': -0.4588}\n",
      "Sentiment of text 10: {'neg': 0.0, 'neu': 0.721, 'pos': 0.279, 'compound': 0.2732}\n",
      "Sentiment of text 11: {'neg': 0.0, 'neu': 0.816, 'pos': 0.184, 'compound': 0.2023}\n",
      "Sentiment of text 12: {'neg': 0.0, 'neu': 0.51, 'pos': 0.49, 'compound': 0.8271}\n",
      "Sentiment of text 13: {'neg': 0.0, 'neu': 0.446, 'pos': 0.554, 'compound': 0.7351}\n"
     ]
    }
   ],
   "source": [
    "from vaderSentiment.vaderSentiment import SentimentIntensityAnalyzer\n",
    "sentiment = SentimentIntensityAnalyzer()\n",
    "text_1 = \"The book was a perfect balance between wrtiting style and plot.\"\n",
    "text_2 =  \"The pizza tastes terrible.\"\n",
    "text_3 = \"The sunrise painted the sky with breathtaking hues.\"\n",
    "text_4 = \"I regret purchasing this product; it doesn't meet my expectations.\"\n",
    "text_5 = \"The traffic jam turned my morning commute into a nightmare.\"\n",
    "text_6 = \"The plain white walls of the room create a minimalist aesthetic.\"\n",
    "text_7 = \"Her kindness and generosity know no bounds.\"\n",
    "text_8 = \"I aced my exam and couldn't be happier.\"\n",
    "text_9 = \"The customer service representative was rude and unhelpful.\"\n",
    "text_10 = \"The textbook provides a comprehensive overview of the subject matter.\"\n",
    "text_11 = \"The email contained important information about the upcoming event.\"\n",
    "text_12 = \"Spending quality time with loved ones always brings immense joy.\"\n",
    "text_13 = \"The unexpected compliment brightened my entire day.\"\n",
    "\n",
    "sent_1 = sentiment.polarity_scores(text_1)\n",
    "sent_2 = sentiment.polarity_scores(text_2)\n",
    "sent_3 = sentiment.polarity_scores(text_3)\n",
    "sent_4 = sentiment.polarity_scores(text_4)\n",
    "sent_5 = sentiment.polarity_scores(text_5)\n",
    "sent_6 = sentiment.polarity_scores(text_6)\n",
    "sent_7 = sentiment.polarity_scores(text_7)\n",
    "sent_8 = sentiment.polarity_scores(text_8)\n",
    "sent_9 = sentiment.polarity_scores(text_9)\n",
    "sent_10 = sentiment.polarity_scores(text_10)\n",
    "sent_11 = sentiment.polarity_scores(text_11)\n",
    "sent_12 = sentiment.polarity_scores(text_12)\n",
    "sent_13 = sentiment.polarity_scores(text_13)\n",
    "\n",
    "print(\"Sentiment of text 1:\", sent_1)\n",
    "print(\"Sentiment of text 2:\", sent_2)\n",
    "print(\"Sentiment of text 3:\", sent_3)\n",
    "print(\"Sentiment of text 4:\", sent_4)\n",
    "print(\"Sentiment of text 5:\", sent_5)\n",
    "print(\"Sentiment of text 6:\", sent_6)\n",
    "print(\"Sentiment of text 7:\", sent_7)\n",
    "print(\"Sentiment of text 8:\", sent_8)\n",
    "print(\"Sentiment of text 9:\", sent_9)\n",
    "print(\"Sentiment of text 10:\", sent_10)\n",
    "print(\"Sentiment of text 11:\", sent_11)\n",
    "print(\"Sentiment of text 12:\", sent_12)\n",
    "print(\"Sentiment of text 13:\", sent_13)"
   ]
  }
 ],
 "metadata": {
  "kernelspec": {
   "display_name": "base",
   "language": "python",
   "name": "python3"
  },
  "language_info": {
   "codemirror_mode": {
    "name": "ipython",
    "version": 3
   },
   "file_extension": ".py",
   "mimetype": "text/x-python",
   "name": "python",
   "nbconvert_exporter": "python",
   "pygments_lexer": "ipython3",
   "version": "3.11.5"
  }
 },
 "nbformat": 4,
 "nbformat_minor": 2
}
