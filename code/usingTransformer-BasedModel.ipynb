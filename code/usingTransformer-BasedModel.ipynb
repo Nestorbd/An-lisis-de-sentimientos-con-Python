{
 "cells": [
  {
   "cell_type": "code",
   "execution_count": 1,
   "metadata": {},
   "outputs": [
    {
     "name": "stdout",
     "output_type": "stream",
     "text": [
      "Requirement already satisfied: transformers in c:\\users\\néstor\\anaconda3\\lib\\site-packages (4.32.1)\n",
      "Requirement already satisfied: filelock in c:\\users\\néstor\\anaconda3\\lib\\site-packages (from transformers) (3.9.0)\n",
      "Requirement already satisfied: huggingface-hub<1.0,>=0.15.1 in c:\\users\\néstor\\anaconda3\\lib\\site-packages (from transformers) (0.15.1)\n",
      "Requirement already satisfied: numpy>=1.17 in c:\\users\\néstor\\anaconda3\\lib\\site-packages (from transformers) (1.24.3)\n",
      "Requirement already satisfied: packaging>=20.0 in c:\\users\\néstor\\anaconda3\\lib\\site-packages (from transformers) (23.1)\n",
      "Requirement already satisfied: pyyaml>=5.1 in c:\\users\\néstor\\anaconda3\\lib\\site-packages (from transformers) (6.0)\n",
      "Requirement already satisfied: regex!=2019.12.17 in c:\\users\\néstor\\anaconda3\\lib\\site-packages (from transformers) (2022.7.9)\n",
      "Requirement already satisfied: requests in c:\\users\\néstor\\anaconda3\\lib\\site-packages (from transformers) (2.31.0)\n",
      "Requirement already satisfied: tokenizers!=0.11.3,<0.14,>=0.11.1 in c:\\users\\néstor\\anaconda3\\lib\\site-packages (from transformers) (0.13.2)\n",
      "Requirement already satisfied: safetensors>=0.3.1 in c:\\users\\néstor\\anaconda3\\lib\\site-packages (from transformers) (0.3.2)\n",
      "Requirement already satisfied: tqdm>=4.27 in c:\\users\\néstor\\anaconda3\\lib\\site-packages (from transformers) (4.65.0)\n",
      "Requirement already satisfied: fsspec in c:\\users\\néstor\\anaconda3\\lib\\site-packages (from huggingface-hub<1.0,>=0.15.1->transformers) (2023.4.0)\n",
      "Requirement already satisfied: typing-extensions>=3.7.4.3 in c:\\users\\néstor\\anaconda3\\lib\\site-packages (from huggingface-hub<1.0,>=0.15.1->transformers) (4.7.1)\n",
      "Requirement already satisfied: colorama in c:\\users\\néstor\\anaconda3\\lib\\site-packages (from tqdm>=4.27->transformers) (0.4.6)\n",
      "Requirement already satisfied: charset-normalizer<4,>=2 in c:\\users\\néstor\\anaconda3\\lib\\site-packages (from requests->transformers) (2.0.4)\n",
      "Requirement already satisfied: idna<4,>=2.5 in c:\\users\\néstor\\anaconda3\\lib\\site-packages (from requests->transformers) (3.4)\n",
      "Requirement already satisfied: urllib3<3,>=1.21.1 in c:\\users\\néstor\\anaconda3\\lib\\site-packages (from requests->transformers) (1.26.16)\n",
      "Requirement already satisfied: certifi>=2017.4.17 in c:\\users\\néstor\\anaconda3\\lib\\site-packages (from requests->transformers) (2023.7.22)\n"
     ]
    }
   ],
   "source": [
    "!pip install transformers"
   ]
  },
  {
   "cell_type": "code",
   "execution_count": 3,
   "metadata": {},
   "outputs": [
    {
     "name": "stderr",
     "output_type": "stream",
     "text": [
      "No model was supplied, defaulted to distilbert-base-uncased-finetuned-sst-2-english and revision af0f99b (https://huggingface.co/distilbert-base-uncased-finetuned-sst-2-english).\n",
      "Using a pipeline without specifying a model name and revision in production is not recommended.\n",
      "All PyTorch model weights were used when initializing TFDistilBertForSequenceClassification.\n",
      "\n",
      "All the weights of TFDistilBertForSequenceClassification were initialized from the PyTorch model.\n",
      "If your task is similar to the task the model of the checkpoint was trained on, you can already use TFDistilBertForSequenceClassification for predictions without further training.\n"
     ]
    },
    {
     "data": {
      "text/plain": [
       "[{'label': 'POSITIVE', 'score': 0.9994569420814514},\n",
       " {'label': 'NEGATIVE', 'score': 0.9987302422523499},\n",
       " {'label': 'POSITIVE', 'score': 0.9995840191841125},\n",
       " {'label': 'POSITIVE', 'score': 0.9998432397842407},\n",
       " {'label': 'NEGATIVE', 'score': 0.9996845722198486},\n",
       " {'label': 'POSITIVE', 'score': 0.9996333122253418},\n",
       " {'label': 'NEGATIVE', 'score': 0.9989424347877502},\n",
       " {'label': 'POSITIVE', 'score': 0.9974205493927002},\n",
       " {'label': 'NEGATIVE', 'score': 0.9996579885482788},\n",
       " {'label': 'POSITIVE', 'score': 0.9995850920677185},\n",
       " {'label': 'POSITIVE', 'score': 0.9992934465408325},\n",
       " {'label': 'POSITIVE', 'score': 0.9998249411582947},\n",
       " {'label': 'NEGATIVE', 'score': 0.9996548891067505},\n",
       " {'label': 'POSITIVE', 'score': 0.9988974332809448},\n",
       " {'label': 'NEGATIVE', 'score': 0.999160885810852},\n",
       " {'label': 'POSITIVE', 'score': 0.999308705329895},\n",
       " {'label': 'NEGATIVE', 'score': 0.9995489716529846},\n",
       " {'label': 'POSITIVE', 'score': 0.9997730851173401},\n",
       " {'label': 'POSITIVE', 'score': 0.999821126461029},\n",
       " {'label': 'POSITIVE', 'score': 0.9982261061668396},\n",
       " {'label': 'NEGATIVE', 'score': 0.9619324803352356},\n",
       " {'label': 'POSITIVE', 'score': 0.9998257756233215},\n",
       " {'label': 'NEGATIVE', 'score': 0.9962846040725708},\n",
       " {'label': 'POSITIVE', 'score': 0.9996789693832397},\n",
       " {'label': 'NEGATIVE', 'score': 0.9338471293449402},\n",
       " {'label': 'POSITIVE', 'score': 0.9983239769935608},\n",
       " {'label': 'NEGATIVE', 'score': 0.9995535016059875},\n",
       " {'label': 'POSITIVE', 'score': 0.9997473359107971},\n",
       " {'label': 'POSITIVE', 'score': 0.9996945858001709},\n",
       " {'label': 'POSITIVE', 'score': 0.9990039467811584},\n",
       " {'label': 'POSITIVE', 'score': 0.9892655611038208},\n",
       " {'label': 'POSITIVE', 'score': 0.9997625946998596},\n",
       " {'label': 'POSITIVE', 'score': 0.9989728927612305},\n",
       " {'label': 'POSITIVE', 'score': 0.9988613128662109},\n",
       " {'label': 'POSITIVE', 'score': 0.9998107552528381},\n",
       " {'label': 'NEGATIVE', 'score': 0.9992333650588989},\n",
       " {'label': 'NEGATIVE', 'score': 0.9956295490264893},\n",
       " {'label': 'NEGATIVE', 'score': 0.961783766746521},\n",
       " {'label': 'POSITIVE', 'score': 0.9995218515396118},\n",
       " {'label': 'POSITIVE', 'score': 0.98313969373703},\n",
       " {'label': 'POSITIVE', 'score': 0.9982261061668396},\n",
       " {'label': 'POSITIVE', 'score': 0.9986762404441833},\n",
       " {'label': 'NEGATIVE', 'score': 0.9956295490264893},\n",
       " {'label': 'POSITIVE', 'score': 0.9988613128662109},\n",
       " {'label': 'NEGATIVE', 'score': 0.9962846040725708},\n",
       " {'label': 'POSITIVE', 'score': 0.9996945858001709},\n",
       " {'label': 'NEGATIVE', 'score': 0.9956295490264893},\n",
       " {'label': 'POSITIVE', 'score': 0.9982261061668396}]"
      ]
     },
     "execution_count": 3,
     "metadata": {},
     "output_type": "execute_result"
    }
   ],
   "source": [
    "import transformers\n",
    "from transformers import pipeline\n",
    "sentiment_pipeline = pipeline(\"sentiment-analysis\")\n",
    "data = [\n",
    "  \"It was the best of times.\", \n",
    "  \"t was the worst of times.\",  \n",
    "  \"Despite market challenges, XYZ Corporation is poised for growth and increased profitability.\",\n",
    "  \"TechInnovate's groundbreaking technology has revolutionized the industry, earning widespread acclaim.\",\n",
    "  \"A series of unfortunate events led to a decline in $ABC's market share and investor confidence.\",\n",
    "  \"XYZ Pharma's commitment to research and development resulted in a breakthrough drug, positively impacting its stock value.\",\n",
    "  \"Global economic uncertainties and trade tensions create a negative outlook for investors.\",\n",
    "  \"In a strategic move, $XYZ acquires a key competitor, signaling potential market dominance.\",\n",
    "  \"XYZ Airlines faces operational challenges, leading to a decline in customer satisfaction and stock value.\",\n",
    "  \"In response to consumer demand, XYZ Retailers introduces sustainable practices, earning positive reviews.\",\n",
    "  \"Despite concerns about inflation, $ABC Financials reports strong quarterly earnings, exceeding expectations.\",\n",
    "  \"In a surprising turn, $XYZ's innovative approach to cybersecurity earns positive recognition from industry experts.\",\n",
    "  \"The unexpected departure of key executives at XYZ Inc. results in uncertainty and negative market sentiment.\",\n",
    "  \"Positive economic indicators and strong corporate earnings contribute to a bullish market outlook.\",\n",
    "  \"XYZ Biotech faces regulatory hurdles in the approval process for a crucial drug, causing a temporary setback.\",\n",
    "  \"Amidst industry disruptions, $ABC emerges as a frontrunner, reporting positive quarterly results.\",\n",
    "  \"Rising interest rates and inflation concerns contribute to a negative outlook for the real estate sector.\",\n",
    "  \"TechPioneer's commitment to diversity and inclusion initiatives receives positive recognition.\",\n",
    "  \"In a bold move, XYZ Energy Corp. invests $200 million in renewable energy projects, earning positive reviews.\",\n",
    "  \"Despite a temporary dip in stock prices, $ABC's long-term growth prospects have investors feeling optimistic.\",\n",
    "  \"ABC Inc. faces continued financial challenges, leading to concerns among stakeholders about its stability.\",\n",
    "  \"GlobalTrade Expo witnesses a significant increase in participation, reflecting a positive outlook on international commerce.\",\n",
    "  \"Market analysts predict a stable quarter for $XYZ, with a neutral outlook on the company's performance.\",\n",
    "  \"GreenTech Solutions announces a major breakthrough in renewable energy research.\",\n",
    "  \"Economic uncertainties and global tensions contribute to a bearish trend in the stock market.\",\n",
    "  \"In response to changing consumer preferences, XYZ Fashion rebrands and introduces sustainable fashion lines.\",\n",
    "  \"XYZ Motors faces production delays, leading to a decrease in stock value and concerns among shareholders.\",\n",
    "  \"Despite challenges in the automotive industry, XYZ Motors reports a steady increase in sales.\",\n",
    "  \"Amidst geopolitical tensions, the TechSummit attracts top industry leaders, fostering discussions on global technological collaboration.\",\n",
    "  \"After a successful merger, XYZ PharmaCorp streamlines operations, resulting in a 15% increase in efficiency.\",\n",
    "  \"After months of speculation, BlueChip Ventures successfully exits its investment, showcasing strategic financial planning.\",\n",
    "  \"Despite economic challenges, XYZ Construction reports a steady growth in revenue.\",\n",
    "  \"In a surprising twist, XYZ Auto announces plans to shift production to electric vehicles.\",\n",
    "  \"Despite a challenging economic climate, $ABC announces strong Q3 earnings, defying expectations.\",\n",
    "  \"An unexpected legal victory for $XYZ boosts investor confidence, leading to a positive market response and an increase in stock prices.\",\n",
    "  \"Unfavorable exchange rates and geopolitical tensions contribute to a negative impact on international trade.\",\n",
    "  \"TechInnovate's CEO resignation sends shockwaves through the industry, impacting the company's stock negatively.\",\n",
    "  \"Market analysts remain cautiously optimistic as $XYZ announces plans for expansion into emerging markets.\",\n",
    "  \"In a groundbreaking announcement, TechInnovate unveils plans for a $500 million research and development facility.\",\n",
    "  \"XYZ Aerospace secures a lucrative government contract for the development of advanced drone technology.\",\n",
    "  \"Despite a temporary dip in stock prices, $ABC's long-term growth prospects have investors feeling optimistic.\",\n",
    "  \"In the wake of environmental concerns, $ABC announces ambitious sustainability goals.\",\n",
    "  \"TechInnovate's CEO resignation sends shockwaves through the industry, impacting the company's stock negatively.\",\n",
    "  \"Despite a challenging economic climate, $ABC announces strong Q3 earnings, defying expectations.\",\n",
    "  \"Market analysts predict a stable quarter for $XYZ, with a neutral outlook on the company's performance.\",\n",
    "  \"Amidst geopolitical tensions, the TechSummit attracts top industry leaders, fostering discussions on global technological collaboration.\",\n",
    "  \"TechInnovate's CEO resignation sends shockwaves through the industry, impacting the company's stock negatively.\",\n",
    "  \"Despite a temporary dip in stock prices, $ABC's long-term growth prospects have investors feeling optimistic.\"\n",
    "  ]\n",
    "sentiment_pipeline(data)"
   ]
  }
 ],
 "metadata": {
  "kernelspec": {
   "display_name": "base",
   "language": "python",
   "name": "python3"
  },
  "language_info": {
   "codemirror_mode": {
    "name": "ipython",
    "version": 3
   },
   "file_extension": ".py",
   "mimetype": "text/x-python",
   "name": "python",
   "nbconvert_exporter": "python",
   "pygments_lexer": "ipython3",
   "version": "3.11.5"
  }
 },
 "nbformat": 4,
 "nbformat_minor": 2
}
